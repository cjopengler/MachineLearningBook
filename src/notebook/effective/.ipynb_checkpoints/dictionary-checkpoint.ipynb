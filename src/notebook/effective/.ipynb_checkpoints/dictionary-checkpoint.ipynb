{
 "cells": [
  {
   "cell_type": "markdown",
   "metadata": {},
   "source": [
    "# 字典"
   ]
  },
  {
   "cell_type": "markdown",
   "metadata": {},
   "source": [
    "## deafault_dict"
   ]
  },
  {
   "cell_type": "markdown",
   "metadata": {},
   "source": [
    "对于字典来说，常常需要插入数据，在插入数据的时候需要先判断key是否存在，一般的代码如下:"
   ]
  },
  {
   "cell_type": "code",
   "execution_count": 1,
   "metadata": {
    "collapsed": true
   },
   "outputs": [],
   "source": [
    "import json"
   ]
  },
  {
   "cell_type": "code",
   "execution_count": 2,
   "metadata": {
    "collapsed": false
   },
   "outputs": [
    {
     "name": "stdout",
     "output_type": "stream",
     "text": [
      "{'a': ['a_value']}\n"
     ]
    }
   ],
   "source": [
    "my_dict = dict()\n",
    "\n",
    "if not my_dict.has_key('a'):\n",
    "    my_dict['a'] = list()\n",
    "my_dict['a'].append('a_value')\n",
    "\n",
    "print my_dict"
   ]
  },
  {
   "cell_type": "markdown",
   "metadata": {},
   "source": [
    "这种方法用起来虽然可以，但是并不是很简洁的代码，在python中的collection提供了defaultdict来完成这个功能，代码更加简洁."
   ]
  },
  {
   "cell_type": "code",
   "execution_count": 3,
   "metadata": {
    "collapsed": false
   },
   "outputs": [
    {
     "name": "stdout",
     "output_type": "stream",
     "text": [
      "defaultdict(<type 'list'>, {'a': 'a_value'})\n"
     ]
    }
   ],
   "source": [
    "import collections\n",
    "my_dict = collections.defaultdict(list)\n",
    "my_dict['a'] = 'a_value'\n",
    "print my_dict"
   ]
  },
  {
   "cell_type": "markdown",
   "metadata": {},
   "source": [
    "## 排序字典"
   ]
  },
  {
   "cell_type": "markdown",
   "metadata": {
    "collapsed": true
   },
   "source": [
    "在字典的输出的时候，字典本身会对key进行排序，但是很多时候，我们并不希望是字典的排序，而是希望使用我们插入字典时候的数据顺序。"
   ]
  },
  {
   "cell_type": "code",
   "execution_count": 4,
   "metadata": {
    "collapsed": false
   },
   "outputs": [
    {
     "name": "stdout",
     "output_type": "stream",
     "text": [
      "{'a': 'a_value', 'c': 'c_value', 'b': 'b_value'}\n"
     ]
    }
   ],
   "source": [
    "regualer_dict = dict()\n",
    "regualer_dict['a'] = 'a_value'\n",
    "regualer_dict['b'] = 'b_value'\n",
    "regualer_dict['c'] = 'c_value'\n",
    "\n",
    "print regualer_dict"
   ]
  },
  {
   "cell_type": "markdown",
   "metadata": {},
   "source": [
    "上面的顺序输出是按照key为a,c,b的顺序输出，而我们希望是按照 a, b ,c的顺序输出.同时OrderedDict也具备了 defaultdict的能力。"
   ]
  },
  {
   "cell_type": "code",
   "execution_count": 13,
   "metadata": {
    "collapsed": false
   },
   "outputs": [
    {
     "name": "stdout",
     "output_type": "stream",
     "text": [
      "OrderedDict([('a', 'a_value'), ('b', 'b_value'), ('c', 'c_value')])\n",
      "----------------------------------------\n",
      "{\"a\": \"a_value\", \"b\": \"b_value\", \"c\": \"c_value\"}\n"
     ]
    }
   ],
   "source": [
    "import collections\n",
    "my_dict = collections.OrderedDict()\n",
    "my_dict['a'] = 'a_value'\n",
    "my_dict['b'] = 'b_value'\n",
    "my_dict['c'] = 'c_value'\n",
    "\n",
    "print my_dict\n",
    "print '-' * 40\n",
    "print json.dumps(my_dict)"
   ]
  },
  {
   "cell_type": "markdown",
   "metadata": {},
   "source": [
    "对OrderedDict输出的json字符串保持顺序"
   ]
  },
  {
   "cell_type": "code",
   "execution_count": 14,
   "metadata": {
    "collapsed": false
   },
   "outputs": [
    {
     "name": "stdout",
     "output_type": "stream",
     "text": [
      "{\"a\": \"a_value\", \"b\": \"b_value\", \"c\": \"c_value\"}\n",
      "OrderedDict([(u'a', u'a_value'), (u'b', u'b_value'), (u'c', u'c_value')])\n"
     ]
    }
   ],
   "source": [
    "json_str = json.dumps(my_dict)\n",
    "print json_str\n",
    "my_dict = json.loads(json_str, object_pairs_hook=collections.OrderedDict)\n",
    "print my_dict"
   ]
  },
  {
   "cell_type": "code",
   "execution_count": 6,
   "metadata": {
    "collapsed": false
   },
   "outputs": [
    {
     "name": "stdout",
     "output_type": "stream",
     "text": [
      "OrderedDict([('a', 'a_value'), ('c', 'c_value'), ('b', 'b_value')])\n"
     ]
    }
   ],
   "source": [
    "my_dict = collections.OrderedDict({'a':'a_value',\n",
    "                                  'b':'b_value',\n",
    "                                  'c':'c_value'})\n",
    "print my_dict"
   ]
  },
  {
   "cell_type": "markdown",
   "metadata": {},
   "source": [
    "## namedtuple"
   ]
  },
  {
   "cell_type": "markdown",
   "metadata": {},
   "source": [
    "namedtuple 另一个和有序字典非常相似的数据结构"
   ]
  },
  {
   "cell_type": "code",
   "execution_count": 7,
   "metadata": {
    "collapsed": false
   },
   "outputs": [
    {
     "name": "stdout",
     "output_type": "stream",
     "text": [
      "Person(name='lily', age=18, sex='female')\n",
      "[\n",
      "    \"lily\", \n",
      "    18, \n",
      "    \"female\"\n",
      "]\n",
      "{\n",
      "    \"name\": \"lily\", \n",
      "    \"age\": 18, \n",
      "    \"sex\": \"female\"\n",
      "}\n",
      "[\n",
      "    \"lily\", \n",
      "    18, \n",
      "    \"female\"\n",
      "]\n"
     ]
    }
   ],
   "source": [
    "Person = collections.namedtuple('Person', ['name', 'age', 'sex'])\n",
    "lily = Person('lily', 18, 'female')\n",
    "print lily\n",
    "print json.dumps(lily, ensure_ascii=False, indent=4)\n",
    "lily_dict = lily._asdict()\n",
    "print json.dumps(lily_dict, ensure_ascii=False, indent=4)\n",
    "lily2 = Person(name=lily_dict['name'], age=lily_dict['age'], sex=lily_dict['sex'])\n",
    "print json.dumps(lily2, ensure_ascii=False, indent=4)\n"
   ]
  },
  {
   "cell_type": "markdown",
   "metadata": {},
   "source": [
    "可见，namedtuple可以转换成有序字典，这一点就很方便。但是，字典不能作为namedtupple的参数，需要像上面一样做一些特殊的处理。"
   ]
  }
 ],
 "metadata": {
  "kernelspec": {
   "display_name": "Python 2",
   "language": "python",
   "name": "python2"
  },
  "language_info": {
   "codemirror_mode": {
    "name": "ipython",
    "version": 2
   },
   "file_extension": ".py",
   "mimetype": "text/x-python",
   "name": "python",
   "nbconvert_exporter": "python",
   "pygments_lexer": "ipython2",
   "version": "2.7.10"
  }
 },
 "nbformat": 4,
 "nbformat_minor": 1
}
