{
 "cells": [
  {
   "cell_type": "markdown",
   "metadata": {},
   "source": [
    "# 堆"
   ]
  },
  {
   "cell_type": "markdown",
   "metadata": {},
   "source": [
    "使用堆来处理最大/最小的top n问题。不使用优先队列是因为优先队列是有线程阻塞的效率较低。"
   ]
  },
  {
   "cell_type": "code",
   "execution_count": 5,
   "metadata": {
    "collapsed": true
   },
   "outputs": [],
   "source": [
    "import heapq"
   ]
  },
  {
   "cell_type": "code",
   "execution_count": 14,
   "metadata": {
    "collapsed": false
   },
   "outputs": [
    {
     "name": "stdout",
     "output_type": "stream",
     "text": [
      "(1, 'a')\n",
      "堆的 size: 2\n"
     ]
    }
   ],
   "source": [
    "h = []\n",
    "heapq.heappush(h, (2, 'b'))\n",
    "heapq.heappush(h, (1, 'a'))\n",
    "heapq.heappush(h, (3, 'c'))\n",
    "\n",
    "print heapq.heappop(h)\n",
    "print u'堆的 size: %d' % len(h)"
   ]
  },
  {
   "cell_type": "markdown",
   "metadata": {},
   "source": [
    "如何自定义比较方式来产生优先队列呢? 通过定义 __lt__ 来解决自定义对象的比较问题"
   ]
  },
  {
   "cell_type": "code",
   "execution_count": 7,
   "metadata": {
    "collapsed": true
   },
   "outputs": [],
   "source": [
    "class Job(object):\n",
    "    def __init__(self, key, value):\n",
    "        self._key = key\n",
    "        self._value = value\n",
    "        \n",
    "    def __lt__(self, other):\n",
    "        \"\"\"\n",
    "        为了演示功能，定义了一个逆序的lt\n",
    "        \"\"\"\n",
    "        return False if self._key < other._key else True\n",
    "            "
   ]
  },
  {
   "cell_type": "code",
   "execution_count": 17,
   "metadata": {
    "collapsed": false
   },
   "outputs": [],
   "source": [
    "h = []\n",
    "heapq.heappush(h, Job(2, 'b'))\n",
    "heapq.heappush(h, Job(1, 'a'))\n",
    "heapq.heappush(h, Job(3, 'c'))"
   ]
  },
  {
   "cell_type": "markdown",
   "metadata": {},
   "source": [
    "因为是逆序所以3是最大的，会当做最小的输出"
   ]
  },
  {
   "cell_type": "code",
   "execution_count": 19,
   "metadata": {
    "collapsed": false
   },
   "outputs": [
    {
     "name": "stdout",
     "output_type": "stream",
     "text": [
      "<class '__main__.Job'>\n",
      "2 b\n"
     ]
    }
   ],
   "source": [
    "popitem = heapq.heappop(h)\n",
    "print type(popitem)\n",
    "print popitem._key, popitem._value"
   ]
  }
 ],
 "metadata": {
  "kernelspec": {
   "display_name": "Python 2",
   "language": "python",
   "name": "python2"
  },
  "language_info": {
   "codemirror_mode": {
    "name": "ipython",
    "version": 2
   },
   "file_extension": ".py",
   "mimetype": "text/x-python",
   "name": "python",
   "nbconvert_exporter": "python",
   "pygments_lexer": "ipython2",
   "version": "2.7.10"
  }
 },
 "nbformat": 4,
 "nbformat_minor": 1
}
