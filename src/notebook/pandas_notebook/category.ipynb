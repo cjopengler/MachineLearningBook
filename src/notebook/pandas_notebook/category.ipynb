{
 "cells": [
  {
   "cell_type": "code",
   "execution_count": null,
   "metadata": {
    "collapsed": true
   },
   "outputs": [],
   "source": []
  },
  {
   "cell_type": "code",
   "execution_count": 11,
   "metadata": {
    "collapsed": true
   },
   "outputs": [],
   "source": [
    "import pandas as pd\n",
    "from pandas import DataFrame, Series"
   ]
  },
  {
   "cell_type": "code",
   "execution_count": 12,
   "metadata": {
    "collapsed": false
   },
   "outputs": [
    {
     "name": "stdout",
     "output_type": "stream",
     "text": [
      "     a    b    c\n",
      "0  1.0  0.0  0.0\n",
      "1  1.0  0.0  0.0\n",
      "2  0.0  1.0  0.0\n",
      "3  0.0  1.0  0.0\n",
      "4  0.0  0.0  1.0\n",
      "5  1.0  0.0  0.0\n"
     ]
    }
   ],
   "source": [
    "df = DataFrame(['a', 'a', 'b', 'b', 'c', 'a'], columns=['name'])\n",
    "name_dummy = pd.get_dummies(df.name)\n",
    "print name_dummy"
   ]
  },
  {
   "cell_type": "code",
   "execution_count": 13,
   "metadata": {
    "collapsed": false
   },
   "outputs": [
    {
     "name": "stdout",
     "output_type": "stream",
     "text": [
      "   u_a  u_b  u_c\n",
      "0  1.0  0.0  0.0\n",
      "1  1.0  0.0  0.0\n",
      "2  0.0  1.0  0.0\n",
      "3  0.0  1.0  0.0\n",
      "4  0.0  0.0  1.0\n",
      "5  1.0  0.0  0.0\n"
     ]
    }
   ],
   "source": [
    "name_dummy.columns = ['u_a', 'u_b', 'u_c']\n",
    "print name_dummy"
   ]
  },
  {
   "cell_type": "code",
   "execution_count": 14,
   "metadata": {
    "collapsed": false
   },
   "outputs": [
    {
     "name": "stdout",
     "output_type": "stream",
     "text": [
      "  name  u_a  u_b  u_c\n",
      "0    a  1.0  0.0  0.0\n",
      "1    a  1.0  0.0  0.0\n",
      "2    b  0.0  1.0  0.0\n",
      "3    b  0.0  1.0  0.0\n",
      "4    c  0.0  0.0  1.0\n",
      "5    a  1.0  0.0  0.0\n"
     ]
    }
   ],
   "source": [
    "df = df.join(name_dummy)\n",
    "print df"
   ]
  },
  {
   "cell_type": "code",
   "execution_count": null,
   "metadata": {
    "collapsed": true
   },
   "outputs": [],
   "source": []
  },
  {
   "cell_type": "code",
   "execution_count": null,
   "metadata": {
    "collapsed": true
   },
   "outputs": [],
   "source": []
  }
 ],
 "metadata": {
  "kernelspec": {
   "display_name": "Python 2",
   "language": "python",
   "name": "python2"
  },
  "language_info": {
   "codemirror_mode": {
    "name": "ipython",
    "version": 2
   },
   "file_extension": ".py",
   "mimetype": "text/x-python",
   "name": "python",
   "nbconvert_exporter": "python",
   "pygments_lexer": "ipython2",
   "version": "2.7.10"
  }
 },
 "nbformat": 4,
 "nbformat_minor": 0
}
