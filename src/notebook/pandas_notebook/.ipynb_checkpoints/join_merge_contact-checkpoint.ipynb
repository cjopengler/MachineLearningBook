{
 "cells": [
  {
   "cell_type": "heading",
   "level": 1,
   "metadata": {
    "collapsed": true
   },
   "source": [
    "contact join merge  示例"
   ]
  },
  {
   "cell_type": "heading",
   "level": 2,
   "metadata": {},
   "source": [
    "contact 能够将两个 DataFrame 按照行或者列连接在一起。"
   ]
  },
  {
   "cell_type": "code",
   "execution_count": 22,
   "metadata": {
    "collapsed": true
   },
   "outputs": [],
   "source": [
    "import pandas as pd\n",
    "from pandas import DataFrame, Series\n",
    "import numpy as np"
   ]
  },
  {
   "cell_type": "code",
   "execution_count": 5,
   "metadata": {
    "collapsed": false
   },
   "outputs": [
    {
     "name": "stdout",
     "output_type": "stream",
     "text": [
      "   0  1  2\n",
      "0  1  2  3\n",
      "1  4  5  6\n",
      "2  7  8  9\n"
     ]
    }
   ],
   "source": [
    "df = DataFrame([[1, 2, 3], [4, 5, 6], [7, 8, 9]])\n",
    "print df"
   ]
  },
  {
   "cell_type": "code",
   "execution_count": 9,
   "metadata": {
    "collapsed": false
   },
   "outputs": [
    {
     "name": "stdout",
     "output_type": "stream",
     "text": [
      "   0  1  2\n",
      "0  1  2  3\n",
      "----------------------------------------\n",
      "   0  1  2\n",
      "0  1  2  3\n",
      "1  4  5  6\n",
      "2  7  8  9\n"
     ]
    }
   ],
   "source": [
    "print df[:1]\n",
    "print '-' * 40\n",
    "print df[:3]"
   ]
  },
  {
   "cell_type": "heading",
   "level": 2,
   "metadata": {},
   "source": [
    "contact 按照行将两个 DataFrame 合并"
   ]
  },
  {
   "cell_type": "code",
   "execution_count": 12,
   "metadata": {
    "collapsed": false
   },
   "outputs": [
    {
     "name": "stdout",
     "output_type": "stream",
     "text": [
      "   0  1  2\n",
      "0  1  2  3\n",
      "0  1  2  3\n",
      "1  4  5  6\n",
      "2  7  8  9\n"
     ]
    }
   ],
   "source": [
    "pieces = [df[:1], df[:3]]\n",
    "contact_df = pd.concat(pieces)\n",
    "print contact_df"
   ]
  },
  {
   "cell_type": "heading",
   "level": 5,
   "metadata": {},
   "source": [
    "contact 将两个DataFrame按照列进行连接"
   ]
  },
  {
   "cell_type": "code",
   "execution_count": 14,
   "metadata": {
    "collapsed": false
   },
   "outputs": [
    {
     "name": "stdout",
     "output_type": "stream",
     "text": [
      "     0    1    2  0  1  2\n",
      "0  1.0  2.0  3.0  1  2  3\n",
      "1  NaN  NaN  NaN  4  5  6\n",
      "2  NaN  NaN  NaN  7  8  9\n"
     ]
    }
   ],
   "source": [
    "pieces = [df[:1], df[:3]]\n",
    "contact_df = pd.concat(pieces, axis=1)\n",
    "print contact_df"
   ]
  },
  {
   "cell_type": "heading",
   "level": 2,
   "metadata": {},
   "source": [
    "merge 类似于SQL中的join,使用相同的key来进行merge"
   ]
  },
  {
   "cell_type": "code",
   "execution_count": null,
   "metadata": {
    "collapsed": true
   },
   "outputs": [],
   "source": [
    "left = pd.DataFrame({'key': ['foo', 'foo'], 'lval': [1, 2]})\n",
    "right = pd.DataFrame({'key': ['foo', 'foo'], 'rval': [4, 5]})"
   ]
  },
  {
   "cell_type": "code",
   "execution_count": 19,
   "metadata": {
    "collapsed": false
   },
   "outputs": [
    {
     "name": "stdout",
     "output_type": "stream",
     "text": [
      "   key  lval  rval\n",
      "0  foo     1     4\n",
      "1  foo     1     5\n",
      "2  foo     2     4\n",
      "3  foo     2     5\n"
     ]
    }
   ],
   "source": [
    "merge_df = pd.merge(left, right, on='key')\n",
    "print merge_df"
   ]
  },
  {
   "cell_type": "heading",
   "level": 2,
   "metadata": {},
   "source": [
    "append 在data frame尾部增加一行. ignore_index=True的参数是是否保留原有的index. \\\n",
    "因为,要添加的行数据都是有index的,这个参数表示是否保留原先的index,如果不保留原先的\n",
    "index则使用新的数据集的index"
   ]
  },
  {
   "cell_type": "code",
   "execution_count": 39,
   "metadata": {
    "collapsed": false
   },
   "outputs": [
    {
     "name": "stdout",
     "output_type": "stream",
     "text": [
      "          a         b         c         d\n",
      "0  0.126798  0.294437  1.859666  0.430980\n",
      "1 -1.209164 -0.657018  0.269496 -0.506588\n",
      "2  1.872645  0.576803 -0.957560  1.841026\n"
     ]
    }
   ],
   "source": [
    "df = DataFrame(np.random.randn(3, 4), columns=['a', 'b', 'c', 'd'])\n",
    "print df"
   ]
  },
  {
   "cell_type": "code",
   "execution_count": 40,
   "metadata": {
    "collapsed": false
   },
   "outputs": [
    {
     "name": "stdout",
     "output_type": "stream",
     "text": [
      "<class 'pandas.core.series.Series'> a    1.872645\n",
      "b    0.576803\n",
      "c   -0.957560\n",
      "d    1.841026\n",
      "Name: 2, dtype: float64\n"
     ]
    }
   ],
   "source": [
    "s = df.iloc[2]\n",
    "print type(s), s"
   ]
  },
  {
   "cell_type": "code",
   "execution_count": 41,
   "metadata": {
    "collapsed": false
   },
   "outputs": [
    {
     "name": "stdout",
     "output_type": "stream",
     "text": [
      "          a         b         c         d\n",
      "0  0.126798  0.294437  1.859666  0.430980\n",
      "1 -1.209164 -0.657018  0.269496 -0.506588\n",
      "2  1.872645  0.576803 -0.957560  1.841026\n",
      "3  1.872645  0.576803 -0.957560  1.841026\n"
     ]
    }
   ],
   "source": [
    "df = df.append(s, ignore_index=True)\n",
    "print df"
   ]
  },
  {
   "cell_type": "code",
   "execution_count": 42,
   "metadata": {
    "collapsed": false
   },
   "outputs": [
    {
     "name": "stdout",
     "output_type": "stream",
     "text": [
      "          a         b         c         d\n",
      "0  0.126798  0.294437  1.859666  0.430980\n",
      "1 -1.209164 -0.657018  0.269496 -0.506588\n",
      "2  1.872645  0.576803 -0.957560  1.841026\n",
      "3  1.872645  0.576803 -0.957560  1.841026\n",
      "2  1.872645  0.576803 -0.957560  1.841026\n"
     ]
    }
   ],
   "source": [
    "df = df.append(s)\n",
    "print df"
   ]
  },
  {
   "cell_type": "heading",
   "level": 2,
   "metadata": {},
   "source": [
    "join很多时候是可以被merge来代替的. 只是 join 是属于data frame的方法,而merge是属于pandas的方法"
   ]
  },
  {
   "cell_type": "code",
   "execution_count": null,
   "metadata": {
    "collapsed": true
   },
   "outputs": [],
   "source": [
    "left = pd.DataFrame({'A': ['A0', 'A1', 'A2'],\n",
    "                     'B': ['B0', 'B1', 'B2']},\n",
    "                    index=['K0', 'K1', 'K2'])\n",
    "right = pd.DataFrame({'C': ['C0', 'C2', 'C3'],\n",
    "                      'D': ['D0', 'D2', 'D3']},\n",
    "                     index=['K0', 'K2', 'K3'])\n",
    "print left\n",
    "print '-' * 40\n",
    "print right"
   ]
  },
  {
   "cell_type": "heading",
   "level": 6,
   "metadata": {},
   "source": [
    "join是按照index进行合并的,二者有一个共同的index='K0', 'K2', 而'K3'就会被舍弃.\n",
    "同时,在right中由于没有K1,会使用NaN进行补全"
   ]
  },
  {
   "cell_type": "code",
   "execution_count": 45,
   "metadata": {
    "collapsed": false
   },
   "outputs": [
    {
     "name": "stdout",
     "output_type": "stream",
     "text": [
      "     A   B    C    D\n",
      "K0  A0  B0   C0   D0\n",
      "K1  A1  B1  NaN  NaN\n",
      "K2  A2  B2   C2   D2\n"
     ]
    }
   ],
   "source": [
    "result = left.join(right)\n",
    "print result"
   ]
  },
  {
   "cell_type": "heading",
   "level": 6,
   "metadata": {},
   "source": [
    "如果需要将right的K3也保存,需要制定outer参数,这有点类似于sql中的外链接"
   ]
  },
  {
   "cell_type": "code",
   "execution_count": 47,
   "metadata": {
    "collapsed": false
   },
   "outputs": [
    {
     "name": "stdout",
     "output_type": "stream",
     "text": [
      "      A    B    C    D\n",
      "K0   A0   B0   C0   D0\n",
      "K1   A1   B1  NaN  NaN\n",
      "K2   A2   B2   C2   D2\n",
      "K3  NaN  NaN   C3   D3\n"
     ]
    }
   ],
   "source": [
    "result = left.join(right, how='outer')\n",
    "print result"
   ]
  },
  {
   "cell_type": "heading",
   "level": 6,
   "metadata": {},
   "source": [
    "也可以只连接二者的公共部分, 指定how='inner'"
   ]
  },
  {
   "cell_type": "code",
   "execution_count": 49,
   "metadata": {
    "collapsed": false
   },
   "outputs": [
    {
     "name": "stdout",
     "output_type": "stream",
     "text": [
      "     A   B   C   D\n",
      "K0  A0  B0  C0  D0\n",
      "K2  A2  B2  C2  D2\n"
     ]
    }
   ],
   "source": [
    "result = left.join(right, how='inner')\n",
    "print result"
   ]
  },
  {
   "cell_type": "code",
   "execution_count": null,
   "metadata": {
    "collapsed": true
   },
   "outputs": [],
   "source": []
  }
 ],
 "metadata": {
  "kernelspec": {
   "display_name": "Python 2",
   "language": "python",
   "name": "python2"
  },
  "language_info": {
   "codemirror_mode": {
    "name": "ipython",
    "version": 2
   },
   "file_extension": ".py",
   "mimetype": "text/x-python",
   "name": "python",
   "nbconvert_exporter": "python",
   "pygments_lexer": "ipython2",
   "version": "2.7.10"
  }
 },
 "nbformat": 4,
 "nbformat_minor": 0
}
