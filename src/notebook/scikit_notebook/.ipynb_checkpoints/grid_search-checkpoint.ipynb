{
 "cells": [
  {
   "cell_type": "markdown",
   "metadata": {
    "collapsed": true
   },
   "source": [
    "# 网格搜索 Grid Search"
   ]
  },
  {
   "cell_type": "markdown",
   "metadata": {},
   "source": [
    "超参学习的利器。那些不会在评估器内部学习的参数,可以通过搜索所有的预制参数来进行学习。例如:C, kernel等。\n",
    "\n",
    "对于超参学习的网格搜索包含如下关键内容:\n",
    "\n",
    "1. 一个评估器,可能是一个分类器也可能是一个回归器\n",
    "2. 参数空间\n",
    "3. 一个搜索或者采样的方法\n",
    "4. 一个交叉验证集的scheme\n",
    "5. 一个评分函数"
   ]
  },
  {
   "cell_type": "code",
   "execution_count": 1,
   "metadata": {
    "collapsed": true
   },
   "outputs": [],
   "source": [
    "import numpy as np\n",
    "from sklearn import cross_validation\n",
    "from sklearn import datasets\n",
    "from sklearn import svm\n",
    "from sklearn import metrics\n",
    "import pandas as pd\n",
    "from pandas import DataFrame, Series\n",
    "from sklearn.grid_search import GridSearchCV"
   ]
  },
  {
   "cell_type": "code",
   "execution_count": 2,
   "metadata": {
    "collapsed": true
   },
   "outputs": [],
   "source": [
    "iris = datasets.load_iris()"
   ]
  },
  {
   "cell_type": "code",
   "execution_count": 3,
   "metadata": {
    "collapsed": false
   },
   "outputs": [
    {
     "name": "stdout",
     "output_type": "stream",
     "text": [
      "[[ 7.7  2.8  6.7  2. ]\n",
      " [ 6.4  3.2  4.5  1.5]\n",
      " [ 6.3  3.3  6.   2.5]]\n",
      "[2 1 2]\n"
     ]
    }
   ],
   "source": [
    "X_train, X_test, y_train, y_test = cross_validation.train_test_split(\n",
    "    iris.data, \n",
    "    iris.target,\n",
    "    test_size=0.4)\n",
    "\n",
    "print X_train[:3]\n",
    "print y_train[:3]"
   ]
  },
  {
   "cell_type": "code",
   "execution_count": 4,
   "metadata": {
    "collapsed": false
   },
   "outputs": [
    {
     "name": "stdout",
     "output_type": "stream",
     "text": [
      "{'kernel': 'linear', 'C': 0.9}\n",
      "----------------------------------------\n",
      "[mean: 0.51111, std: 0.12247, params: {'kernel': 'rbf', 'C': 0.9, 'gamma': 0.001}, mean: 0.36667, std: 0.01324, params: {'kernel': 'rbf', 'C': 0.9, 'gamma': 0.0001}, mean: 0.90000, std: 0.06920, params: {'kernel': 'rbf', 'C': 10, 'gamma': 0.001}, mean: 0.65556, std: 0.01824, params: {'kernel': 'rbf', 'C': 10, 'gamma': 0.0001}, mean: 0.96667, std: 0.02790, params: {'kernel': 'rbf', 'C': 100, 'gamma': 0.001}, mean: 0.90000, std: 0.06920, params: {'kernel': 'rbf', 'C': 100, 'gamma': 0.0001}, mean: 0.97778, std: 0.04706, params: {'kernel': 'rbf', 'C': 1000, 'gamma': 0.001}, mean: 0.96667, std: 0.02790, params: {'kernel': 'rbf', 'C': 1000, 'gamma': 0.0001}, mean: 0.98889, std: 0.02353, params: {'kernel': 'linear', 'C': 0.9}, mean: 0.96667, std: 0.04706, params: {'kernel': 'linear', 'C': 10}, mean: 0.95556, std: 0.04386, params: {'kernel': 'linear', 'C': 100}, mean: 0.94444, std: 0.05263, params: {'kernel': 'linear', 'C': 1000}]\n",
      "++++++++++++++++++++++++++++++++++++++++\n",
      "0.988888888889\n"
     ]
    }
   ],
   "source": [
    "param1 = {'kernel':['rbf'], \n",
    "          'gamma':[1e-3, 1e-4],\n",
    "          'C':[0.9, 10, 100, 1000]}\n",
    "\n",
    "param2 = {'kernel':['linear'],\n",
    "          'C':[0.9, 10, 100, 1000]}\n",
    "\n",
    "tuned_parameters = [param1, param2]\n",
    "\n",
    "clf = GridSearchCV(svm.SVC(), \n",
    "                       tuned_parameters,\n",
    "                       cv=5)\n",
    "\n",
    "clf.fit(X_train, y_train)\n",
    "\n",
    "print clf.best_estimator_\n",
    "print '+' * 40\n",
    "print clf.best_params_\n",
    "print '-' * 40\n",
    "print clf.grid_scores_\n",
    "print '+' * 40\n",
    "print clf.best_score_"
   ]
  },
  {
   "cell_type": "markdown",
   "metadata": {},
   "source": [
    "从上面的代码可以看出GridSearch已经涵盖了交叉验证集的运算。如果将超参变成1个,那就和交叉验证集是一致的了。"
   ]
  },
  {
   "cell_type": "markdown",
   "metadata": {},
   "source": [
    "GridSearch是给出指定的分类器来进行超参训练的一种方法。然而,究竟哪种分类器更好?这种参数该如何设置呢? 可以使用pipline来讲评估器和参数空间组合在一起"
   ]
  },
  {
   "cell_type": "markdown",
   "metadata": {},
   "source": [
    "## 随机Grid Seach"
   ]
  },
  {
   "cell_type": "markdown",
   "metadata": {},
   "source": [
    "随机进行grid search的原理是,参数通过随机产生,那么如何通过随机产生呢?是使用随机分布函数,来生成随机数。常用的scipy的库 scipy.stats.randint 是一个随机整数分布函数,可以用来产生随机整数。在random search中还有一个参数 n_iter 用来表示产生多少个随机参数."
   ]
  },
  {
   "cell_type": "code",
   "execution_count": 5,
   "metadata": {
    "collapsed": true
   },
   "outputs": [],
   "source": [
    "from scipy.stats import randint as sp_randint\n",
    "from sklearn.grid_search import RandomizedSearchCV\n",
    "\n",
    "random_param = {'kernel':['linear'],\n",
    "          'C':sp_randint(0.01,100)}\n",
    "random_search = RandomizedSearchCV(svm.SVC(), random_param, n_iter=20, cv=5)"
   ]
  },
  {
   "cell_type": "code",
   "execution_count": 6,
   "metadata": {
    "collapsed": false
   },
   "outputs": [
    {
     "data": {
      "text/plain": [
       "RandomizedSearchCV(cv=5, error_score='raise',\n",
       "          estimator=SVC(C=1.0, cache_size=200, class_weight=None, coef0=0.0,\n",
       "  decision_function_shape=None, degree=3, gamma='auto', kernel='rbf',\n",
       "  max_iter=-1, probability=False, random_state=None, shrinking=True,\n",
       "  tol=0.001, verbose=False),\n",
       "          fit_params={}, iid=True, n_iter=20, n_jobs=1,\n",
       "          param_distributions={'kernel': ['linear'], 'C': <scipy.stats.distributions.rv_frozen object at 0x10cfa2850>},\n",
       "          pre_dispatch='2*n_jobs', random_state=None, refit=True,\n",
       "          scoring=None, verbose=0)"
      ]
     },
     "execution_count": 6,
     "metadata": {},
     "output_type": "execute_result"
    }
   ],
   "source": [
    "random_search.fit(X_train, y_train)"
   ]
  },
  {
   "cell_type": "code",
   "execution_count": 7,
   "metadata": {
    "collapsed": false
   },
   "outputs": [
    {
     "name": "stdout",
     "output_type": "stream",
     "text": [
      "{'kernel': 'linear', 'C': 18}\n",
      "----------------------------------------\n",
      "[mean: 0.96667, std: 0.04706, params: {'kernel': 'linear', 'C': 18}, mean: 0.96667, std: 0.04706, params: {'kernel': 'linear', 'C': 10}, mean: 0.95556, std: 0.04386, params: {'kernel': 'linear', 'C': 24}, mean: 0.96667, std: 0.04706, params: {'kernel': 'linear', 'C': 17}, mean: 0.95556, std: 0.04386, params: {'kernel': 'linear', 'C': 93}, mean: 0.96667, std: 0.04706, params: {'kernel': 'linear', 'C': 16}, mean: 0.95556, std: 0.04386, params: {'kernel': 'linear', 'C': 72}, mean: 0.95556, std: 0.04386, params: {'kernel': 'linear', 'C': 44}, mean: 0.95556, std: 0.04386, params: {'kernel': 'linear', 'C': 37}, mean: 0.96667, std: 0.04706, params: {'kernel': 'linear', 'C': 10}, mean: 0.95556, std: 0.04386, params: {'kernel': 'linear', 'C': 32}, mean: 0.96667, std: 0.04706, params: {'kernel': 'linear', 'C': 14}, mean: 0.95556, std: 0.04386, params: {'kernel': 'linear', 'C': 38}, mean: 0.95556, std: 0.04386, params: {'kernel': 'linear', 'C': 85}, mean: 0.95556, std: 0.04386, params: {'kernel': 'linear', 'C': 97}, mean: 0.95556, std: 0.04386, params: {'kernel': 'linear', 'C': 78}, mean: 0.95556, std: 0.04386, params: {'kernel': 'linear', 'C': 74}, mean: 0.95556, std: 0.04386, params: {'kernel': 'linear', 'C': 80}, mean: 0.95556, std: 0.04386, params: {'kernel': 'linear', 'C': 90}, mean: 0.95556, std: 0.04386, params: {'kernel': 'linear', 'C': 77}]\n",
      "++++++++++++++++++++++++++++++++++++++++\n",
      "0.966666666667\n"
     ]
    }
   ],
   "source": [
    "print random_search.best_params_\n",
    "print '-' * 40\n",
    "print random_search.grid_scores_\n",
    "print '+' * 40\n",
    "print random_search.best_score_"
   ]
  },
  {
   "cell_type": "markdown",
   "metadata": {},
   "source": [
    "Grid Search很适合并行化,其中参数设置成 njobs=-1."
   ]
  },
  {
   "cell_type": "code",
   "execution_count": null,
   "metadata": {
    "collapsed": true
   },
   "outputs": [],
   "source": []
  }
 ],
 "metadata": {
  "kernelspec": {
   "display_name": "Python 2",
   "language": "python",
   "name": "python2"
  },
  "language_info": {
   "codemirror_mode": {
    "name": "ipython",
    "version": 2
   },
   "file_extension": ".py",
   "mimetype": "text/x-python",
   "name": "python",
   "nbconvert_exporter": "python",
   "pygments_lexer": "ipython2",
   "version": "2.7.10"
  }
 },
 "nbformat": 4,
 "nbformat_minor": 0
}
