{
 "cells": [
  {
   "cell_type": "markdown",
   "metadata": {
    "collapsed": true
   },
   "source": [
    "# 文本特征抽取"
   ]
  },
  {
   "cell_type": "markdown",
   "metadata": {},
   "source": [
    "文本特征抽取的Pipline如下:\n",
    "\n",
    "![文本特征管道线](../../../res/python_notebook/extract_text_feature.png)\n"
   ]
  },
  {
   "cell_type": "markdown",
   "metadata": {
    "collapsed": true
   },
   "source": [
    "一共3个管道线来生成词向量，\n",
    "* 方式一：适用的方位是词比较短的时候，比如query和query。因为词比较短使用TFIDF就不合适了 \n",
    "* 方式二:先做词包，在idf transform生成基于idf的词向量 \n",
    "* 方式三:是方式二的两步合并的方法，直接使用TfidfVectorizer的处理\n",
    "\n",
    "在正常使用的时候，在词较短的时候使用方式一，而在词较长的时候使用TFIDF进行词向量生成，直接使用方式三即可。"
   ]
  },
  {
   "cell_type": "code",
   "execution_count": null,
   "metadata": {
    "collapsed": true
   },
   "outputs": [],
   "source": []
  }
 ],
 "metadata": {
  "kernelspec": {
   "display_name": "Python 2",
   "language": "python",
   "name": "python2"
  },
  "language_info": {
   "codemirror_mode": {
    "name": "ipython",
    "version": 2
   },
   "file_extension": ".py",
   "mimetype": "text/x-python",
   "name": "python",
   "nbconvert_exporter": "python",
   "pygments_lexer": "ipython2",
   "version": "2.7.10"
  }
 },
 "nbformat": 4,
 "nbformat_minor": 0
}
