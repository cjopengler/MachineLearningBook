{
 "cells": [
  {
   "cell_type": "markdown",
   "metadata": {
    "collapsed": true
   },
   "source": [
    "# 参数学习曲线"
   ]
  },
  {
   "cell_type": "markdown",
   "metadata": {},
   "source": [
    "单一参数的学习,高偏差还是高误差。将单一参数的不同的值,设置成x轴,而训练集和验证集的分数为y轴,可以通过这种方式来进行绘制曲线。\n",
    "\n",
    "这里有一点需要特别的注意:在之前的所有训练集的拆分中,Grid Search中进行拆分的方法是将训练集才分成,训练集和交叉验证集。而现在是拆分成了3部分,训练集,交叉验证集,测试集。因为训练集+交叉验证集是为了训练参数,而训练出来的参数可能过拟合也可能欠拟合,那么需要对测试集进行学习曲线绘制来得到更好的解释"
   ]
  },
  {
   "cell_type": "code",
   "execution_count": 5,
   "metadata": {
    "collapsed": true
   },
   "outputs": [],
   "source": [
    "import numpy as np\n",
    "from sklearn.learning_curve import validation_curve\n",
    "from sklearn.datasets import load_iris\n",
    "from sklearn.linear_model import Ridge\n",
    "import matplotlib\n",
    "import pandas\n",
    "from pandas import DataFrame\n",
    "from pandas import Series\n",
    "import matplotlib.pyplot as plt\n",
    "\n",
    "%matplotlib inline"
   ]
  },
  {
   "cell_type": "code",
   "execution_count": 6,
   "metadata": {
    "collapsed": false
   },
   "outputs": [
    {
     "name": "stdout",
     "output_type": "stream",
     "text": [
      "[  1.00000000e-07   1.29154967e-06   1.66810054e-05   2.15443469e-04\n",
      "   2.78255940e-03   3.59381366e-02   4.64158883e-01   5.99484250e+00\n",
      "   7.74263683e+01   1.00000000e+03]\n"
     ]
    }
   ],
   "source": [
    "np.random.seed(0)\n",
    "iris = load_iris()\n",
    "X, y = iris.data, iris.target\n",
    "indices = np.arange(y.shape[0])\n",
    "np.random.shuffle(indices)\n",
    "X, y = X[indices], y[indices]\n",
    "param_range = np.logspace(-7, 3, 10)\n",
    "\n",
    "train_scores, valid_scores = validation_curve(Ridge(),\n",
    "                                              X,\n",
    "                                              y,\n",
    "                                              'alpha',\n",
    "                                              param_range,\n",
    "                                              cv=3)\n",
    "print param_range"
   ]
  },
  {
   "cell_type": "code",
   "execution_count": 7,
   "metadata": {
    "collapsed": false
   },
   "outputs": [
    {
     "name": "stdout",
     "output_type": "stream",
     "text": [
      "[[ 0.94141575  0.92944161  0.92267644]\n",
      " [ 0.94141575  0.92944161  0.92267644]\n",
      " [ 0.94141575  0.92944161  0.92267644]\n",
      " [ 0.94141575  0.92944161  0.92267644]\n",
      " [ 0.94141574  0.92944161  0.92267643]\n",
      " [ 0.94141426  0.92944053  0.92267515]\n",
      " [ 0.94122796  0.92929956  0.92250918]\n",
      " [ 0.93480506  0.92406493  0.91682626]\n",
      " [ 0.89180363  0.88543648  0.87422985]\n",
      " [ 0.47253778  0.45601093  0.42887489]]\n",
      "----------------------------------------\n",
      "[ 0.93117793  0.93117793  0.93117793  0.93117793  0.93117792  0.93117665\n",
      "  0.93101223  0.92523208  0.88382332  0.45247453]\n"
     ]
    }
   ],
   "source": [
    "print train_scores\n",
    "train_scores_mean = np.mean(train_scores, axis=1)\n",
    "train_scores_std = np.std(train_scores, axis=1)\n",
    "print '-' * 40\n",
    "print train_scores_mean"
   ]
  },
  {
   "cell_type": "code",
   "execution_count": 8,
   "metadata": {
    "collapsed": false
   },
   "outputs": [
    {
     "name": "stdout",
     "output_type": "stream",
     "text": [
      "[[ 0.90335825  0.92525985  0.94159336]\n",
      " [ 0.90335825  0.92525985  0.94159336]\n",
      " [ 0.90335829  0.92525981  0.94159335]\n",
      " [ 0.90335884  0.92525929  0.9415933 ]\n",
      " [ 0.90336582  0.92525265  0.94159266]\n",
      " [ 0.90345335  0.92516663  0.94158318]\n",
      " [ 0.90425122  0.92403578  0.94131162]\n",
      " [ 0.90363932  0.91205438  0.93500627]\n",
      " [ 0.8636381   0.84995236  0.91022999]\n",
      " [ 0.44639995  0.39639757  0.4567671 ]]\n",
      "----------------------------------------\n",
      "[ 0.92340382  0.92340382  0.92340382  0.92340381  0.92340371  0.92340105\n",
      "  0.92319954  0.91689999  0.87460681  0.43318821]\n"
     ]
    }
   ],
   "source": [
    "print valid_scores\n",
    "valid_scores_mean = np.mean(valid_scores, axis=1)\n",
    "valid_scores_std = np.std(valid_scores, axis=1)\n",
    "print '-' * 40\n",
    "print valid_scores_mean"
   ]
  },
  {
   "cell_type": "code",
   "execution_count": 9,
   "metadata": {
    "collapsed": false
   },
   "outputs": [
    {
     "data": {
      "text/plain": [
       "[<matplotlib.lines.Line2D at 0x105b8d050>]"
      ]
     },
     "execution_count": 9,
     "metadata": {},
     "output_type": "execute_result"
    },
    {
     "data": {
      "image/png": "[encoded data removed]",
      "text/plain": [
       "<matplotlib.figure.Figure at 0x10166c950>"
      ]
     },
     "metadata": {},
     "output_type": "display_data"
    }
   ],
   "source": [
    "#plt.plot(x=param_range, y=train_scores_mean)\n",
    "plt.plot(range(-7, 3, 1), train_scores_mean, 'ro')"
   ]
  },
  {
   "cell_type": "code",
   "execution_count": 10,
   "metadata": {
    "collapsed": false
   },
   "outputs": [
    {
     "data": {
      "image/png": "[encoded data removed]",
      "text/plain": [
       "<matplotlib.figure.Figure at 0x105a6bed0>"
      ]
     },
     "metadata": {},
     "output_type": "display_data"
    }
   ],
   "source": [
    "plt.title(\"Validation Curve with SVM\")\n",
    "plt.xlabel(\"$\\gamma$\")\n",
    "plt.ylabel(\"Score\")\n",
    "plt.ylim(0.0, 1.1)\n",
    "plt.semilogx(param_range, train_scores_mean, label=\"Training score\", color=\"r\")\n",
    "plt.fill_between(param_range, train_scores_mean - train_scores_std,\n",
    "                 train_scores_mean + train_scores_std, alpha=0.2, color=\"r\")\n",
    "plt.semilogx(param_range, valid_scores_mean, label=\"Cross-validation score\",\n",
    "             color=\"g\")\n",
    "plt.fill_between(param_range, valid_scores_mean - valid_scores_std,\n",
    "                 valid_scores_mean + valid_scores_std, alpha=0.2, color=\"g\")\n",
    "plt.legend(loc=\"best\")\n",
    "plt.show()"
   ]
  },
  {
   "cell_type": "markdown",
   "metadata": {},
   "source": [
    "小技巧,当使用较小的数值的时候,例如这个例子中使用的是 np.logspace(-7, 3, 10), 这里的最小值是1.0e-7, 最大值是1.0e+03,10表示的是从最小值到最大值分成了10份，那么每一份就是 (1.0e+03 - 1.0e-7)/9=111。那么在plot的时候，如果使用真实的数值那么横坐标的跨度太大，这时候我们希望使用对数坐标，那么最小值 lg(1.0e-7)=-7 最大值 log(1.0e+03)=3，这样的横坐标绘制起来就很紧凑。使用 plt.semilogx 来变换成对数坐标系绘制。"
   ]
  },
  {
   "cell_type": "code",
   "execution_count": 11,
   "metadata": {
    "collapsed": false
   },
   "outputs": [
    {
     "name": "stdout",
     "output_type": "stream",
     "text": [
      "[  1.00000000e-07   1.29154967e-06   1.66810054e-05   2.15443469e-04\n",
      "   2.78255940e-03   3.59381366e-02   4.64158883e-01   5.99484250e+00\n",
      "   7.74263683e+01   1.00000000e+03]\n"
     ]
    }
   ],
   "source": [
    "log_data = np.logspace(-7,3, 10)\n",
    "print log_data"
   ]
  },
  {
   "cell_type": "markdown",
   "metadata": {},
   "source": []
  }
 ],
 "metadata": {
  "kernelspec": {
   "display_name": "Python 2",
   "language": "python",
   "name": "python2"
  },
  "language_info": {
   "codemirror_mode": {
    "name": "ipython",
    "version": 2.0
   },
   "file_extension": ".py",
   "mimetype": "text/x-python",
   "name": "python",
   "nbconvert_exporter": "python",
   "pygments_lexer": "ipython2",
   "version": "2.7.10"
  }
 },
 "nbformat": 4,
 "nbformat_minor": 0
}