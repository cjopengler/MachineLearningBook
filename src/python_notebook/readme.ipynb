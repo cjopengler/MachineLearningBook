{
 "cells": [
  {
   "cell_type": "markdown",
   "metadata": {},
   "source": [
    "# Python 知识展示\n",
    "所有的python的演示代码都会在这里展示,因为这样能够更好的来演示代码\n",
    "所有的知识结构是以package名字来展示的"
   ]
  },
  {
   "cell_type": "code",
   "execution_count": null,
   "metadata": {},
   "outputs": [],
   "source": [
    ""
   ]
  }
 ],
 "metadata": {},
 "nbformat": 4,
 "nbformat_minor": 0
}