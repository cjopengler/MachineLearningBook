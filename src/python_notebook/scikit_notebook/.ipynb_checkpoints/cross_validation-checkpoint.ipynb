{
 "cells": [
  {
   "cell_type": "markdown",
   "metadata": {
    "collapsed": true
   },
   "source": [
    "# 交叉验证集"
   ]
  },
  {
   "cell_type": "code",
   "execution_count": 22,
   "metadata": {
    "collapsed": true
   },
   "outputs": [],
   "source": [
    "import numpy as np\n",
    "from sklearn import cross_validation\n",
    "from sklearn import datasets\n",
    "from sklearn import svm\n",
    "from sklearn import metrics\n",
    "import pandas as pd\n",
    "from pandas import DataFrame, Series"
   ]
  },
  {
   "cell_type": "code",
   "execution_count": 23,
   "metadata": {
    "collapsed": false
   },
   "outputs": [
    {
     "name": "stdout",
     "output_type": "stream",
     "text": [
      "<type 'numpy.ndarray'> <type 'numpy.ndarray'>\n",
      "(150, 4) (150,)\n",
      "----------------------------------------\n",
      "[[ 5.1  3.5  1.4  0.2]\n",
      " [ 4.9  3.   1.4  0.2]\n",
      " [ 4.7  3.2  1.3  0.2]\n",
      " [ 4.6  3.1  1.5  0.2]\n",
      " [ 5.   3.6  1.4  0.2]]\n",
      "++++++++++++++++++++++++++++++++++++++++\n",
      "[0 0 0 0 0 0 0 0 0 0]\n"
     ]
    }
   ],
   "source": [
    "iris = datasets.load_iris()\n",
    "print type(iris.data), type(iris.target)\n",
    "print iris.data.shape, iris.target.shape\n",
    "print '-' * 40\n",
    "print iris.data[:5, :]\n",
    "print '+' * 40\n",
    "print iris.target[:10]"
   ]
  },
  {
   "cell_type": "markdown",
   "metadata": {},
   "source": [
    "转换成 DataFrame"
   ]
  },
  {
   "cell_type": "code",
   "execution_count": 25,
   "metadata": {
    "collapsed": false
   },
   "outputs": [
    {
     "name": "stdout",
     "output_type": "stream",
     "text": [
      "(90, 4) (60, 4)\n"
     ]
    }
   ],
   "source": [
    "X_train, X_test, y_train, y_test = cross_validation.train_test_split(\n",
    "    iris.data, iris.target, test_size=0.4, random_state=0\n",
    ")\n",
    "\n",
    "print  X_train.shape, X_test.shape"
   ]
  },
  {
   "cell_type": "markdown",
   "metadata": {},
   "source": [
    "test_size 表示按照多少比例拆分成训练集和测试机。random_state的含义是随机种子。\n",
    "这种做法的原因是为了和书上的随机值一样,而使用同样的随机种子。实际中不应该一样"
   ]
  },
  {
   "cell_type": "code",
   "execution_count": 27,
   "metadata": {
    "collapsed": false
   },
   "outputs": [
    {
     "name": "stdout",
     "output_type": "stream",
     "text": [
      "0.966666666667\n"
     ]
    }
   ],
   "source": [
    "clf = svm.SVC(kernel='linear', C=1.0)\n",
    "clf.fit(X_train, y_train)\n",
    "print clf.score(X_test, y_test)"
   ]
  },
  {
   "cell_type": "markdown",
   "metadata": {},
   "source": [
    "## k-flod交叉验证机"
   ]
  },
  {
   "cell_type": "markdown",
   "metadata": {},
   "source": [
    "仅仅有训练集和测试集,是无法担当训练模型的超参训练任务,因为需要知道参数的好坏,也需要一个测试集,这个测试集是不能与最终的测试集一样的,因为一样会引起过拟合问题。解决这个的方法是交叉验证集。\n",
    "\n",
    "交叉验证机其中一个方法是k-fold方法,这种方法是将训练集拆分成k个小的数据集然后:\n",
    "\n",
    "1. 模型训练使用k-1个数据集\n",
    "2. 对结果的验证在剩下的数据集中进行验证\n",
    "\n",
    "这种方法的问题在于计算太昂贵,但是不会浪费太多数据。"
   ]
  },
  {
   "cell_type": "code",
   "execution_count": 28,
   "metadata": {
    "collapsed": false
   },
   "outputs": [
    {
     "name": "stdout",
     "output_type": "stream",
     "text": [
      "[ 0.96666667  1.          0.96666667  0.96666667  1.        ]\n"
     ]
    }
   ],
   "source": [
    "clf = svm.SVC(kernel='linear', C=1)\n",
    "scores = cross_validation.cross_val_score(clf, iris.data, iris.target, cv=5)\n",
    "\n",
    "print scores"
   ]
  },
  {
   "cell_type": "code",
   "execution_count": 13,
   "metadata": {
    "collapsed": false
   },
   "outputs": [
    {
     "name": "stdout",
     "output_type": "stream",
     "text": [
      "Accuracy: 0.98 (+/- 0.02)\n"
     ]
    }
   ],
   "source": [
    "print ('Accuracy: %0.2f (+/- %0.2f)' % (scores.mean(), scores.std()))"
   ]
  },
  {
   "cell_type": "markdown",
   "metadata": {},
   "source": [
    "默认情况下,每一个CV的迭代计算的分数使用的是模型自己的分数,也可以通过使用其他的分数计算方式,比如F1"
   ]
  },
  {
   "cell_type": "code",
   "execution_count": 29,
   "metadata": {
    "collapsed": false
   },
   "outputs": [
    {
     "name": "stdout",
     "output_type": "stream",
     "text": [
      "[ 0.96658312  1.          0.96658312  0.96658312  1.        ]\n",
      "均值:0.98, 标准差:0.02\n"
     ]
    }
   ],
   "source": [
    "scores = cross_validation.cross_val_score(clf,\n",
    "                                          iris.data,\n",
    "                                          iris.target,\n",
    "                                          cv=5,\n",
    "                                          scoring='f1_weighted')\n",
    "print scores\n",
    "print (u'均值:%.2f, 标准差:%.2f' % (scores.mean(), scores.std()))"
   ]
  },
  {
   "cell_type": "markdown",
   "metadata": {},
   "source": [
    "因为iris数据集的标签分类是比较均衡的,所以和F1近似"
   ]
  },
  {
   "cell_type": "markdown",
   "metadata": {},
   "source": [
    "前面的示例中使用的是k-fold,也可以使用其他的产生交叉验证集的方法,比如随机拆分。"
   ]
  },
  {
   "cell_type": "code",
   "execution_count": 30,
   "metadata": {
    "collapsed": false
   },
   "outputs": [
    {
     "name": "stdout",
     "output_type": "stream",
     "text": [
      "150\n",
      "[ 0.97777778  0.97777778  1.        ]\n",
      "均值: 0.99, 标准差:0.01\n"
     ]
    }
   ],
   "source": [
    "n_samples = iris.data.shape[0]\n",
    "print n_samples\n",
    "cv = cross_validation.ShuffleSplit(n_samples, n_iter=3, test_size=0.3, random_state=0)\n",
    "\n",
    "scores = cross_validation.cross_val_score(clf, iris.data, iris.target, cv=cv)\n",
    "\n",
    "print scores\n",
    "print u'均值: %.2f, 标准差:%.2f' % (scores.mean(), scores.std())"
   ]
  },
  {
   "cell_type": "markdown",
   "metadata": {},
   "source": [
    "cross_val_score 分数会对每一个测试集验证产生一个平均分,而cross_val_predict能够产生最后的预测结果,对每一个输入都产生一个预测值,如果无法为每一个输入产生一个预测值,则会抛出异常。但基本来说cross_val_score就够用了"
   ]
  },
  {
   "cell_type": "code",
   "execution_count": 32,
   "metadata": {
    "collapsed": false
   },
   "outputs": [
    {
     "name": "stdout",
     "output_type": "stream",
     "text": [
      "<type 'numpy.ndarray'> (150,)\n",
      "[0 0 0 0 0 0 0 0 0 0 0 0 0 0 0 0 0 0 0 0 0 0 0 0 0 0 0 0 0 0 0 0 0 0 0 0 0\n",
      " 0 0 0 0 0 0 0 0 0 0 0 0 0 1 1 1 1 1 1 1 1 1 1 1 1 1 1 1 1 1 1 1 1 2 1 2 1\n",
      " 1 1 1 1 1 1 1 1 1 2 1 1 1 1 1 1 1 1 1 1 1 1 1 1 1 1 2 2 2 2 2 2 1 2 2 2 2\n",
      " 2 2 2 2 2 2 2 2 2 2 2 2 2 2 2 2 2 2 2 2 2 2 2 2 2 2 2 2 2 2 2 2 2 2 2 2 2\n",
      " 2 2]\n",
      "0.973333333333\n"
     ]
    }
   ],
   "source": [
    "predict = cross_validation.cross_val_predict(clf,\n",
    "                                             iris.data,\n",
    "                                             iris.target,\n",
    "                                             cv=10)\n",
    "print type(predict), predict.shape\n",
    "print predict\n",
    "print metrics.accuracy_score(iris.target, predict)"
   ]
  },
  {
   "cell_type": "markdown",
   "metadata": {},
   "source": [
    "## 总结\n",
    "交叉验证集提供了一种如何训练模型的方法,就是将所有的样本数据拆分成训练集和交叉验证集。这样训练出来的模型才能够正确的评估模型。但是,可见使用交叉验证集进行训练的时候,所用的时间是成倍增长的。这里还没有涉及到超参训练。"
   ]
  },
  {
   "cell_type": "code",
   "execution_count": null,
   "metadata": {
    "collapsed": true
   },
   "outputs": [],
   "source": []
  }
 ],
 "metadata": {
  "kernelspec": {
   "display_name": "Python 2",
   "language": "python",
   "name": "python2"
  },
  "language_info": {
   "codemirror_mode": {
    "name": "ipython",
    "version": 2
   },
   "file_extension": ".py",
   "mimetype": "text/x-python",
   "name": "python",
   "nbconvert_exporter": "python",
   "pygments_lexer": "ipython2",
   "version": "2.7.10"
  }
 },
 "nbformat": 4,
 "nbformat_minor": 0
}
