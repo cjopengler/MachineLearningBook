{
 "cells": [
  {
   "cell_type": "code",
   "execution_count": null,
   "metadata": {
    "collapsed": true
   },
   "outputs": [],
   "source": [
    ""
   ]
  },
  {
   "cell_type": "code",
   "execution_count": 11,
   "metadata": {},
   "outputs": [],
   "source": [
    "import pandas as pd\n",
    "from pandas import DataFrame, Series"
   ]
  },
  {
   "cell_type": "code",
   "execution_count": 12,
   "metadata": {},
   "outputs": [
    {
     "name": "stdout",
     "output_type": "stream",
     "text": [
      "     a    b    c\n0  1.0  0.0  0.0\n1  1.0  0.0  0.0\n2  0.0  1.0  0.0\n3  0.0  1.0  0.0\n4  0.0  0.0  1.0\n5  1.0  0.0  0.0\n"
     ]
    }
   ],
   "source": [
    "df = DataFrame(['a', 'a', 'b', 'b', 'c', 'a'], columns=['name'])\n",
    "name_dummy = pd.get_dummies(df.name)\n",
    "print name_dummy"
   ]
  },
  {
   "cell_type": "code",
   "execution_count": 13,
   "metadata": {},
   "outputs": [
    {
     "name": "stdout",
     "output_type": "stream",
     "text": [
      "   u_a  u_b  u_c\n0  1.0  0.0  0.0\n1  1.0  0.0  0.0\n2  0.0  1.0  0.0\n3  0.0  1.0  0.0\n4  0.0  0.0  1.0\n5  1.0  0.0  0.0\n"
     ]
    }
   ],
   "source": [
    "name_dummy.columns = ['u_a', 'u_b', 'u_c']\n",
    "print name_dummy"
   ]
  },
  {
   "cell_type": "code",
   "execution_count": 14,
   "metadata": {},
   "outputs": [
    {
     "name": "stdout",
     "output_type": "stream",
     "text": [
      "  name  u_a  u_b  u_c\n0    a  1.0  0.0  0.0\n1    a  1.0  0.0  0.0\n2    b  0.0  1.0  0.0\n3    b  0.0  1.0  0.0\n4    c  0.0  0.0  1.0\n5    a  1.0  0.0  0.0\n"
     ]
    }
   ],
   "source": [
    "df = df.join(name_dummy)\n",
    "print df"
   ]
  },
  {
   "cell_type": "code",
   "execution_count": null,
   "metadata": {},
   "outputs": [],
   "source": [
    ""
   ]
  },
  {
   "cell_type": "code",
   "execution_count": null,
   "metadata": {},
   "outputs": [],
   "source": [
    ""
   ]
  }
 ],
 "metadata": {
  "kernelspec": {
   "display_name": "Python 2",
   "language": "python",
   "name": "python2"
  },
  "language_info": {
   "codemirror_mode": {
    "name": "ipython",
    "version": 2.0
   },
   "file_extension": ".py",
   "mimetype": "text/x-python",
   "name": "python",
   "nbconvert_exporter": "python",
   "pygments_lexer": "ipython2",
   "version": "2.7.6"
  }
 },
 "nbformat": 4,
 "nbformat_minor": 0
}